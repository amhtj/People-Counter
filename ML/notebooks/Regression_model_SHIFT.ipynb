{
 "cells": [
  {
   "cell_type": "code",
   "execution_count": null,
   "metadata": {},
   "outputs": [],
   "source": [
    "import os\n",
    "from PIL import Image\n",
    "import numpy as np\n",
    "import pandas as pd\n",
    "from time import time\n",
    "import keras\n",
    "from keras.applications.vgg16 import  VGG16\n",
    "from keras.applications.inception_v3 import InceptionV3, preprocess_input\n",
    "from keras import applications\n",
    "from keras import optimizers\n",
    "from keras.models import Sequential, Model \n",
    "from keras.layers import Dropout, Flatten, Dense, GlobalAveragePooling2D\n",
    "from keras.optimizers import SGD, Adam, Adadelta\n",
    "from keras import backend as k \n",
    "from keras.callbacks import ModelCheckpoint, LearningRateScheduler, TensorBoard, EarlyStopping\n",
    "from keras.preprocessing import image\n",
    "from keras.preprocessing.image import ImageDataGenerator, array_to_img, img_to_array, load_img\n",
    "from keras.utils import np_utils\n",
    "from keras.layers import concatenate\n",
    "\n",
    "import random\n",
    "import gc\n",
    "\n",
    "import cv2    \n",
    "import matplotlib.pyplot as plt\n",
    "import seaborn as sns\n",
    "\n",
    "\n",
    "plt.style.use('ggplot')\n",
    "\n",
    "%matplotlib inline"
   ]
  },
  {
   "cell_type": "code",
   "execution_count": null,
   "metadata": {},
   "outputs": [],
   "source": [
    "import keras\n",
    "import numpy as np\n",
    "from keras.applications import resnet50\n",
    "#Load the ResNet50 model\n",
    "resnet_model = resnet50.ResNet50(weights='imagenet',include_top=False)"
   ]
  },
  {
   "cell_type": "code",
   "execution_count": null,
   "metadata": {},
   "outputs": [],
   "source": [
    "x = resnet_model.output\n",
    "x = GlobalAveragePooling2D()(x)\n",
    "x = Dense(4096, activation=\"relu\")(x)\n",
    "x = Dropout(0.5)(x)\n",
    "x = Dense(1024, activation=\"relu\")(x)\n",
    "predictions = Dense(1, activation=\"linear\")(x)"
   ]
  },
  {
   "cell_type": "code",
   "execution_count": null,
   "metadata": {},
   "outputs": [],
   "source": [
    "model = Model(inputs=resnet_model.input, outputs=predictions)"
   ]
  },
  {
   "cell_type": "code",
   "execution_count": null,
   "metadata": {},
   "outputs": [],
   "source": [
    "print(model.summary())"
   ]
  },
  {
   "cell_type": "code",
   "execution_count": null,
   "metadata": {},
   "outputs": [],
   "source": [
    "dir1='D://Repositories/SHIFT/LectureCounter/ML/datasets/People/'\n",
    "dir2='D://Repositories/SHIFT/LectureCounter/ML/datasets/People_01/'\n",
    "dir3='D://Repositories/SHIFT/LectureCounter/ML/datasets/image/'"
   ]
  },
  {
   "cell_type": "code",
   "execution_count": null,
   "metadata": {},
   "outputs": [],
   "source": [
    "files=os.listdir(dir1)\n",
    "allImages=[]\n",
    "images=[]\n",
    "csv_files=[]\n",
    "for file in files:\n",
    "    file=file.lower()\n",
    "    if('.jpg' in file):\n",
    "        images.append(file)\n",
    "    if('.jpeg' in file):\n",
    "        images.append(file)\n",
    "    if('.png' in file):\n",
    "        images.append(file)\n",
    "    if('.csv' in file):\n",
    "        csv_files.append(file)\n",
    "    print(file)\n",
    "print(len(images),len(csv_files))\n",
    "allImages.append(images)"
   ]
  },
  {
   "cell_type": "code",
   "execution_count": null,
   "metadata": {},
   "outputs": [],
   "source": [
    "files=os.listdir(dir2)\n",
    "images=[]\n",
    "for file in files:\n",
    "    file=file.lower()\n",
    "    if('.jpg' in file):\n",
    "        images.append(file)\n",
    "    if('.jpeg' in file):\n",
    "        images.append(file)\n",
    "    if('.png' in file):\n",
    "        images.append(file)\n",
    "    if('.csv' in file):\n",
    "        csv_files.append(file)\n",
    "    print(file)\n",
    "print(len(images),len(csv_files))\n",
    "allImages.append(images)"
   ]
  },
  {
   "cell_type": "code",
   "execution_count": null,
   "metadata": {},
   "outputs": [],
   "source": [
    "files=os.listdir(dir3)\n",
    "images=[]\n",
    "for file in files:\n",
    "    file=file.lower()\n",
    "    if('.jpg' in file):\n",
    "        images.append(file)\n",
    "    if('.jpeg' in file):\n",
    "        images.append(file)\n",
    "    if('.png' in file):\n",
    "        images.append(file)\n",
    "    if('.csv' in file):\n",
    "        csv_files.append(file)\n",
    "    print(file)\n",
    "print(len(images),len(csv_files))\n",
    "allImages.append(images)"
   ]
  },
  {
   "cell_type": "code",
   "execution_count": null,
   "metadata": {},
   "outputs": [],
   "source": [
    "x_train=[]\n",
    "y_train=[]\n",
    "index=0\n",
    "for i in range(len(allImages[index])):\n",
    "    im=Image.open(dir1+allImages[index][i])\n",
    "    im=im.resize((224,224),Image.ANTIALIAS)\n",
    "    arr=np.array(im)\n",
    "    print(arr.shape)\n",
    "    if(arr.shape==(224,224,3)):\n",
    "        x_train.append(arr)"
   ]
  },
  {
   "cell_type": "code",
   "execution_count": null,
   "metadata": {},
   "outputs": [],
   "source": [
    "data=pd.read_csv(dir1+csv_files[index])"
   ]
  },
  {
   "cell_type": "code",
   "execution_count": null,
   "metadata": {},
   "outputs": [],
   "source": [
    "for i in range(len(allImages[index])):\n",
    "    if(i!=2):\n",
    "        y_train.append(data['num_of_people'][i])"
   ]
  },
  {
   "cell_type": "code",
   "execution_count": null,
   "metadata": {},
   "outputs": [],
   "source": [
    "index=2\n",
    "for i in range(len(allImages[index])):\n",
    "    im=Image.open(dir3+allImages[index][i])\n",
    "    im=im.resize((224,224),Image.ANTIALIAS)\n",
    "    arr=np.array(im)\n",
    "    print(arr.shape)\n",
    "    x_train.append(arr)"
   ]
  },
  {
   "cell_type": "code",
   "execution_count": null,
   "metadata": {},
   "outputs": [],
   "source": [
    "data=pd.read_csv(dir3+csv_files[index])"
   ]
  },
  {
   "cell_type": "code",
   "execution_count": null,
   "metadata": {},
   "outputs": [],
   "source": [
    "for i in range(len(allImages[index])):\n",
    "    y_train.append(data[data.keys()[1]].values[i])"
   ]
  },
  {
   "cell_type": "code",
   "execution_count": null,
   "metadata": {},
   "outputs": [],
   "source": [
    "print(len(x_train),len(y_train))"
   ]
  },
  {
   "cell_type": "code",
   "execution_count": null,
   "metadata": {},
   "outputs": [],
   "source": [
    "ndata=pd.read_csv(\"sorted_data/target.csv\")"
   ]
  },
  {
   "cell_type": "code",
   "execution_count": null,
   "metadata": {},
   "outputs": [],
   "source": [
    "for i in range(len(ndata['id'])):\n",
    "    print(ndata['id'][i],ndata['objects'][i])\n",
    "    im=Image.open(\"sorted_Data/data/\"+ndata['id'].values[i])\n",
    "    im=im.resize((224,224),Image.ANTIALIAS)\n",
    "    arr=np.array(im)\n",
    "    print(arr.shape)\n",
    "    x_train.append(arr)\n",
    "    y_train.append(ndata['objects'].values[i])"
   ]
  },
  {
   "cell_type": "code",
   "execution_count": null,
   "metadata": {},
   "outputs": [],
   "source": [
    "x_test=[]\n",
    "y_test=[]\n",
    "index=1\n",
    "for i in range(len(allImages[index])):\n",
    "    im=Image.open(dir2+allImages[index][i])\n",
    "    im=im.resize((224,224),Image.ANTIALIAS)\n",
    "    arr=np.array(im)\n",
    "    print(arr.shape)\n",
    "    if(arr.shape==(224,224,3)):\n",
    "        x_test.append(arr)"
   ]
  },
  {
   "cell_type": "code",
   "execution_count": null,
   "metadata": {},
   "outputs": [],
   "source": [
    "x_test=np.array(x_test)"
   ]
  },
  {
   "cell_type": "code",
   "execution_count": null,
   "metadata": {},
   "outputs": [],
   "source": [
    "x_train=np.array(x_train)\n",
    "y_train=np.array(y_train)"
   ]
  },
  {
   "cell_type": "code",
   "execution_count": null,
   "metadata": {},
   "outputs": [],
   "source": [
    "model.compile(\"adam\",loss='mse',metrics=['accuracy'])"
   ]
  },
  {
   "cell_type": "code",
   "execution_count": null,
   "metadata": {},
   "outputs": [],
   "source": [
    "model.fit(x_train,y_train,epochs=100,batch_size=8,validation_split=0.2)"
   ]
  }
 ],
 "metadata": {
  "kernelspec": {
   "display_name": "Python 3",
   "language": "python",
   "name": "python3"
  },
  "language_info": {
   "codemirror_mode": {
    "name": "ipython",
    "version": 3
   },
   "file_extension": ".py",
   "mimetype": "text/x-python",
   "name": "python",
   "nbconvert_exporter": "python",
   "pygments_lexer": "ipython3",
   "version": "3.7.3"
  }
 },
 "nbformat": 4,
 "nbformat_minor": 2
}
